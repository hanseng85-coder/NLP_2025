{
  "nbformat": 4,
  "nbformat_minor": 0,
  "metadata": {
    "colab": {
      "provenance": [],
      "authorship_tag": "ABX9TyOPV7IIKJlRqs792Doi4iiY",
      "include_colab_link": true
    },
    "kernelspec": {
      "name": "python3",
      "display_name": "Python 3"
    },
    "language_info": {
      "name": "python"
    }
  },
  "cells": [
    {
      "cell_type": "markdown",
      "metadata": {
        "id": "view-in-github",
        "colab_type": "text"
      },
      "source": [
        "<a href=\"https://colab.research.google.com/github/hanseng85-coder/NLP_2025/blob/main/006%EC%9E%90%EB%A3%8C%ED%98%95%EA%B0%9C%EB%85%90007%EC%9E%90%EB%A3%8C%ED%98%95%EC%B6%9C%EB%A0%A5.ipynb\" target=\"_parent\"><img src=\"https://colab.research.google.com/assets/colab-badge.svg\" alt=\"Open In Colab\"/></a>"
      ]
    },
    {
      "cell_type": "code",
      "execution_count": 1,
      "metadata": {
        "id": "h4jRVne872Qy"
      },
      "outputs": [],
      "source": [
        "intData = 15\n",
        "floatData = 2.5\n",
        "complexData = 1 + 1j"
      ]
    },
    {
      "cell_type": "code",
      "source": [
        "isTrue = True\n",
        "isFalse = False"
      ],
      "metadata": {
        "id": "hn78vqOZ8e-b"
      },
      "execution_count": 3,
      "outputs": []
    },
    {
      "cell_type": "code",
      "source": [
        "setData = {1, 2, 3, 4, 5}"
      ],
      "metadata": {
        "id": "f1NQnQ928rk-"
      },
      "execution_count": 4,
      "outputs": []
    },
    {
      "cell_type": "code",
      "source": [
        "dictData = {0:False, 1:True}"
      ],
      "metadata": {
        "id": "lR054WuA8yhS"
      },
      "execution_count": 5,
      "outputs": []
    },
    {
      "cell_type": "code",
      "source": [
        "print('안녕하세요 파이썬!')"
      ],
      "metadata": {
        "id": "rNFFbuQJ85xz",
        "outputId": "b42dc9b0-37d6-48d4-b7f4-ff5123b5f7e5",
        "colab": {
          "base_uri": "https://localhost:8080/"
        }
      },
      "execution_count": 6,
      "outputs": [
        {
          "output_type": "stream",
          "name": "stdout",
          "text": [
            "안녕하세요 파이썬!\n"
          ]
        }
      ]
    },
    {
      "cell_type": "code",
      "source": [
        "hello = '안녕하세요 파이썬!'\n",
        "print(hello)"
      ],
      "metadata": {
        "id": "kk7Ftoup8-E4",
        "outputId": "08f7de6d-2709-4f77-f995-fd8b93fc9384",
        "colab": {
          "base_uri": "https://localhost:8080/"
        }
      },
      "execution_count": 7,
      "outputs": [
        {
          "output_type": "stream",
          "name": "stdout",
          "text": [
            "안녕하세요 파이썬!\n"
          ]
        }
      ]
    },
    {
      "cell_type": "code",
      "source": [
        "intData1 = 1\n",
        "intData2 = 2\n",
        "print(intData1 +intData2)"
      ],
      "metadata": {
        "id": "7YsByRwE9DN2",
        "outputId": "36765139-8a3f-4a20-8c25-7e846812d6ab",
        "colab": {
          "base_uri": "https://localhost:8080/"
        }
      },
      "execution_count": 8,
      "outputs": [
        {
          "output_type": "stream",
          "name": "stdout",
          "text": [
            "3\n"
          ]
        }
      ]
    },
    {
      "cell_type": "code",
      "source": [
        "name = '오한승'\n",
        "phone = '010-9159-5743'\n",
        "print('이름:', name, '핸드폰:', phone)"
      ],
      "metadata": {
        "id": "5KtkFMyg9JND",
        "outputId": "2f3bd61c-efbb-4a42-e1db-af615739cac0",
        "colab": {
          "base_uri": "https://localhost:8080/"
        }
      },
      "execution_count": 9,
      "outputs": [
        {
          "output_type": "stream",
          "name": "stdout",
          "text": [
            "이름: 오한승 핸드폰: 010-9159-5743\n"
          ]
        }
      ]
    },
    {
      "cell_type": "code",
      "source": [
        "print('#' ,end='')\n",
        "print('#' *5)"
      ],
      "metadata": {
        "id": "T0RvXhT79Wyy",
        "outputId": "610043c2-d4f2-4ea0-d63d-9e816eb5c2a3",
        "colab": {
          "base_uri": "https://localhost:8080/"
        }
      },
      "execution_count": 15,
      "outputs": [
        {
          "output_type": "stream",
          "name": "stdout",
          "text": [
            "######\n"
          ]
        }
      ]
    },
    {
      "cell_type": "code",
      "source": [
        "print('#' *5)"
      ],
      "metadata": {
        "id": "SPjStNF-91WF",
        "outputId": "f5bb3971-afa0-4d2c-eddf-8354e709d24b",
        "colab": {
          "base_uri": "https://localhost:8080/"
        }
      },
      "execution_count": 13,
      "outputs": [
        {
          "output_type": "stream",
          "name": "stdout",
          "text": [
            "#####\n"
          ]
        }
      ]
    },
    {
      "cell_type": "code",
      "source": [
        "print(name, phone, sep=';')"
      ],
      "metadata": {
        "id": "W-uzXydm94Sk",
        "outputId": "31a1bbf8-2e5a-44ca-863b-39e305486cfa",
        "colab": {
          "base_uri": "https://localhost:8080/"
        }
      },
      "execution_count": 18,
      "outputs": [
        {
          "output_type": "stream",
          "name": "stdout",
          "text": [
            "오한승;010-9159-5743\n"
          ]
        }
      ]
    },
    {
      "cell_type": "code",
      "source": [],
      "metadata": {
        "id": "noarwLZg_zSA"
      },
      "execution_count": null,
      "outputs": []
    }
  ]
}