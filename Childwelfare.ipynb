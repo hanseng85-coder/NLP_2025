{
  "nbformat": 4,
  "nbformat_minor": 0,
  "metadata": {
    "colab": {
      "provenance": [],
      "authorship_tag": "ABX9TyOa007Ep+mjzjk22XAEHdFP",
      "include_colab_link": true
    },
    "kernelspec": {
      "name": "python3",
      "display_name": "Python 3"
    },
    "language_info": {
      "name": "python"
    }
  },
  "cells": [
    {
      "cell_type": "markdown",
      "metadata": {
        "id": "view-in-github",
        "colab_type": "text"
      },
      "source": [
        "<a href=\"https://colab.research.google.com/github/hanseng85-coder/NLP_2025/blob/main/Childwelfare.ipynb\" target=\"_parent\"><img src=\"https://colab.research.google.com/assets/colab-badge.svg\" alt=\"Open In Colab\"/></a>"
      ]
    },
    {
      "cell_type": "code",
      "execution_count": null,
      "metadata": {
        "id": "wMzT8emD03vV"
      },
      "outputs": [],
      "source": []
    },
    {
      "cell_type": "markdown",
      "source": [
        "# Department of Child Welfare\n",
        "아동복지학과는 아동의 건강한 발달과 복지를 지원하기 위해\n",
        "다양한 학문적 이론과 실천적 방법을 배우는 학과입니다.\n",
        "\n",
        "## 교육 목표\n",
        "- 아동 발달 이해 및 연구\n",
        "- 아동 복지 정책과 제도 학습\n",
        "- 아동 상담 및 보호 실무 능력 배양\n",
        "\n",
        "## 주요 과목\n",
        "1. 아동발달론\n",
        "2. 아동복지정책론\n",
        "3. 아동상담 및 치료\n",
        "4. 지역사회복지와 아동\n",
        "\n",
        "## 진로\n",
        "- 보육교사\n",
        "- 아동상담사\n",
        "- 사회복지사\n",
        "- 공공기관 아동 관련 전문직\n"
      ],
      "metadata": {
        "id": "A_cUlGBa1Dfe"
      }
    }
  ]
}