{
  "nbformat": 4,
  "nbformat_minor": 0,
  "metadata": {
    "colab": {
      "provenance": [],
      "authorship_tag": "ABX9TyNw44iUbNXwoHF5iAHb7Qzv",
      "include_colab_link": true
    },
    "kernelspec": {
      "name": "python3",
      "display_name": "Python 3"
    },
    "language_info": {
      "name": "python"
    }
  },
  "cells": [
    {
      "cell_type": "markdown",
      "metadata": {
        "id": "view-in-github",
        "colab_type": "text"
      },
      "source": [
        "<a href=\"https://colab.research.google.com/github/hanseng85-coder/NLP_2025/blob/main/Untitled0.ipynb\" target=\"_parent\"><img src=\"https://colab.research.google.com/assets/colab-badge.svg\" alt=\"Open In Colab\"/></a>"
      ]
    },
    {
      "cell_type": "code",
      "execution_count": 1,
      "metadata": {
        "id": "xBOWM5haHfs-"
      },
      "outputs": [],
      "source": [
        "_myname = 'samsjang'\n",
        "my_name = '오한승'\n",
        "MyName3 = 'Oh han-seung'\n",
        "country = '대한민국'"
      ]
    },
    {
      "cell_type": "code",
      "source": [
        "print(_myname)"
      ],
      "metadata": {
        "colab": {
          "base_uri": "https://localhost:8080/"
        },
        "id": "y6Ggez6IIrzi",
        "outputId": "c7bc7312-26cb-41f2-cff4-0d4abd835ae7"
      },
      "execution_count": 2,
      "outputs": [
        {
          "output_type": "stream",
          "name": "stdout",
          "text": [
            "samsjang\n"
          ]
        }
      ]
    },
    {
      "cell_type": "code",
      "source": [
        "print(_myname, my_name, MyName3, country)"
      ],
      "metadata": {
        "colab": {
          "base_uri": "https://localhost:8080/"
        },
        "id": "2ITR6Zf6IzbT",
        "outputId": "9a3c545b-9f80-4c7a-adcc-4e02cd47452f"
      },
      "execution_count": 4,
      "outputs": [
        {
          "output_type": "stream",
          "name": "stdout",
          "text": [
            "samsjang 오한승 Oh han-seung 대한민국\n"
          ]
        }
      ]
    },
    {
      "cell_type": "code",
      "source": [
        ">>> 1_str = '안녕하세요 파이썬!'"
      ],
      "metadata": {
        "colab": {
          "base_uri": "https://localhost:8080/",
          "height": 110
        },
        "id": "Kwr0fiBKI-bL",
        "outputId": "6ca2d984-ef1e-4a1d-cf27-d35ab7056357"
      },
      "execution_count": 5,
      "outputs": [
        {
          "output_type": "error",
          "ename": "SyntaxError",
          "evalue": "invalid decimal literal (ipython-input-856830181.py, line 1)",
          "traceback": [
            "\u001b[0;36m  File \u001b[0;32m\"/tmp/ipython-input-856830181.py\"\u001b[0;36m, line \u001b[0;32m1\u001b[0m\n\u001b[0;31m    1_str = '안녕하세요 파이썬!'\u001b[0m\n\u001b[0m     ^\u001b[0m\n\u001b[0;31mSyntaxError\u001b[0m\u001b[0;31m:\u001b[0m invalid decimal literal\n"
          ]
        }
      ]
    },
    {
      "cell_type": "code",
      "source": [
        ">>> _1_str = '안녕하세요 파이썬!'"
      ],
      "metadata": {
        "id": "CcZ9w3EIJiVT"
      },
      "execution_count": 7,
      "outputs": []
    },
    {
      "cell_type": "code",
      "source": [
        "print(_1_str)"
      ],
      "metadata": {
        "colab": {
          "base_uri": "https://localhost:8080/"
        },
        "id": "y5B5w7GWKKRC",
        "outputId": "8aa5b4fc-aad1-4033-836c-695abf06f588"
      },
      "execution_count": 8,
      "outputs": [
        {
          "output_type": "stream",
          "name": "stdout",
          "text": [
            "안녕하세요 파이썬!\n"
          ]
        }
      ]
    },
    {
      "cell_type": "code",
      "source": [
        "_var = '오한승'\n",
        "address = 'hanseng85@gmail.com'"
      ],
      "metadata": {
        "id": "2MlSbTgoKild"
      },
      "execution_count": 10,
      "outputs": []
    },
    {
      "cell_type": "code",
      "source": [
        "print(_var, address)"
      ],
      "metadata": {
        "colab": {
          "base_uri": "https://localhost:8080/"
        },
        "id": "aljv6hdyLaOt",
        "outputId": "1ff55827-ae3f-48bc-a6db-d0216763b8ce"
      },
      "execution_count": 11,
      "outputs": [
        {
          "output_type": "stream",
          "name": "stdout",
          "text": [
            "오한승 hanseng85@gmail.com\n"
          ]
        }
      ]
    },
    {
      "cell_type": "code",
      "source": [
        "counter = 1\n",
        "Counter = 2"
      ],
      "metadata": {
        "id": "ffE0-k92Lmcs"
      },
      "execution_count": 12,
      "outputs": []
    },
    {
      "cell_type": "code",
      "source": [
        "print(Counter, counter)"
      ],
      "metadata": {
        "colab": {
          "base_uri": "https://localhost:8080/"
        },
        "id": "QOZ5hDO4LxB_",
        "outputId": "abbaba3e-5a05-4f6e-f2c1-0b25f67913f8"
      },
      "execution_count": 13,
      "outputs": [
        {
          "output_type": "stream",
          "name": "stdout",
          "text": [
            "2 1\n"
          ]
        }
      ]
    },
    {
      "cell_type": "code",
      "source": [
        "and = 1"
      ],
      "metadata": {
        "colab": {
          "base_uri": "https://localhost:8080/",
          "height": 110
        },
        "id": "Hw1wkhGwLzyl",
        "outputId": "e335505e-0903-4ed8-ff84-92d6e323aa90"
      },
      "execution_count": 15,
      "outputs": [
        {
          "output_type": "error",
          "ename": "SyntaxError",
          "evalue": "invalid syntax (ipython-input-2589573702.py, line 1)",
          "traceback": [
            "\u001b[0;36m  File \u001b[0;32m\"/tmp/ipython-input-2589573702.py\"\u001b[0;36m, line \u001b[0;32m1\u001b[0m\n\u001b[0;31m    and = 1\u001b[0m\n\u001b[0m    ^\u001b[0m\n\u001b[0;31mSyntaxError\u001b[0m\u001b[0;31m:\u001b[0m invalid syntax\n"
          ]
        }
      ]
    },
    {
      "cell_type": "code",
      "source": [
        "import keyword\n",
        "keyword.kwlist"
      ],
      "metadata": {
        "colab": {
          "base_uri": "https://localhost:8080/"
        },
        "id": "Bvf3e-feL39C",
        "outputId": "210fb0ab-9b82-417b-acd2-297ed5aff53c"
      },
      "execution_count": 16,
      "outputs": [
        {
          "output_type": "execute_result",
          "data": {
            "text/plain": [
              "['False',\n",
              " 'None',\n",
              " 'True',\n",
              " 'and',\n",
              " 'as',\n",
              " 'assert',\n",
              " 'async',\n",
              " 'await',\n",
              " 'break',\n",
              " 'class',\n",
              " 'continue',\n",
              " 'def',\n",
              " 'del',\n",
              " 'elif',\n",
              " 'else',\n",
              " 'except',\n",
              " 'finally',\n",
              " 'for',\n",
              " 'from',\n",
              " 'global',\n",
              " 'if',\n",
              " 'import',\n",
              " 'in',\n",
              " 'is',\n",
              " 'lambda',\n",
              " 'nonlocal',\n",
              " 'not',\n",
              " 'or',\n",
              " 'pass',\n",
              " 'raise',\n",
              " 'return',\n",
              " 'try',\n",
              " 'while',\n",
              " 'with',\n",
              " 'yield']"
            ]
          },
          "metadata": {},
          "execution_count": 16
        }
      ]
    },
    {
      "cell_type": "code",
      "source": [
        "abs(-555)"
      ],
      "metadata": {
        "colab": {
          "base_uri": "https://localhost:8080/"
        },
        "id": "lc-elDdfMdko",
        "outputId": "c008201d-0480-4bd6-aa01-4d3c959bd5ba"
      },
      "execution_count": 17,
      "outputs": [
        {
          "output_type": "execute_result",
          "data": {
            "text/plain": [
              "555"
            ]
          },
          "metadata": {},
          "execution_count": 17
        }
      ]
    },
    {
      "cell_type": "code",
      "source": [
        "intData = 1\n",
        "pi = 3.14\n",
        "flag = True\n",
        "ch = 'x'\n",
        "strData = '사랑해요 파이썬!'\n",
        "buffer = 1\n",
        "buffer + 2\n",
        "3+345"
      ],
      "metadata": {
        "colab": {
          "base_uri": "https://localhost:8080/"
        },
        "id": "O8iciNNQMxW6",
        "outputId": "8a99cb3e-d74c-4e72-902d-493abb94e126"
      },
      "execution_count": 19,
      "outputs": [
        {
          "output_type": "execute_result",
          "data": {
            "text/plain": [
              "348"
            ]
          },
          "metadata": {},
          "execution_count": 19
        }
      ]
    },
    {
      "cell_type": "code",
      "source": [
        "buffer +3"
      ],
      "metadata": {
        "colab": {
          "base_uri": "https://localhost:8080/"
        },
        "id": "4dPFRfp2NHHC",
        "outputId": "213cc800-7767-46ca-8cd7-d4b5ba75efc5"
      },
      "execution_count": 20,
      "outputs": [
        {
          "output_type": "execute_result",
          "data": {
            "text/plain": [
              "4"
            ]
          },
          "metadata": {},
          "execution_count": 20
        }
      ]
    },
    {
      "cell_type": "code",
      "source": [
        "### 안녕하세요~ 오한승입니다. 어렵네요 파이썬\n",
        "\n",
        "a = 1 # a에 1을 할당\n",
        "b = 5 # b에 5를 할당\n",
        "print(a+b) #a+b의 값을 출력\n",
        "\n",
        "\"\"\" 주석처리입니다.\n",
        "진짜 이해했어요\n",
        "이해했어요. \"\"\"\n",
        "\n",
        "comment = 'Result = '\n",
        "a = 5\n",
        "b = 50\n",
        "print(comment, a+b)"
      ],
      "metadata": {
        "colab": {
          "base_uri": "https://localhost:8080/"
        },
        "id": "1dmr7YT6OOXz",
        "outputId": "a250c692-127d-4978-ac41-a00256409a70"
      },
      "execution_count": 21,
      "outputs": [
        {
          "output_type": "stream",
          "name": "stdout",
          "text": [
            "6\n",
            "Result =  55\n"
          ]
        }
      ]
    },
    {
      "cell_type": "code",
      "source": [],
      "metadata": {
        "id": "RKVZgQ2wRlp0"
      },
      "execution_count": null,
      "outputs": []
    }
  ]
}